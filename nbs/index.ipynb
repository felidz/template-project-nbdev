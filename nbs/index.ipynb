{
 "cells": [
  {
   "cell_type": "markdown",
   "metadata": {},
   "source": [
    "---\n",
    "date: 2024-02-20\n",
    "author: \n",
    "  - name: \n",
    "      family: \"Felidz\"\n",
    "number-sections: true\n",
    "\n",
    "---"
   ]
  },
  {
   "cell_type": "code",
   "execution_count": null,
   "metadata": {},
   "outputs": [],
   "source": [
    "#| hide\n",
    "from template_project_nbdev import *  # noqa: F403\n"
   ]
  },
  {
   "cell_type": "markdown",
   "metadata": {},
   "source": [
    "# template-project-nbdev\n",
    "\n",
    "> build on top of [nbdev](https://github.com/fastai/nbdev)\n"
   ]
  },
  {
   "cell_type": "markdown",
   "metadata": {},
   "source": [
    "\n",
    "![PyPI Version](https://img.shields.io/pypi/v/template-project-nbdev.svg?style=flat-square&color=darkblue)\n",
    "![GitHub Release](https://img.shields.io/github/v/release/felidz/template-project-nbdev.svg?style=flat-square&logo=github)\n",
    "![GitHub License](https://img.shields.io/github/license/felidz/template-project-nbdev.svg?style=flat-square&logo=github)\n",
    "\n",
    "![GitHub top language](https://img.shields.io/github/languages/top/felidz/template-project-nbdev.svg?style=flat-square)\n",
    "![GitHub commit activity](https://img.shields.io/github/commit-activity/t/felidz/template-project-nbdev.svg?style=flat-square&logo=github)\n",
    "\n",
    "\n",
    "![GitHub last commit](https://img.shields.io/github/last-commit/felidz/template-project-nbdev.svg?style=flat-square&logo=github&color=darkgreen) \n",
    "![GitHub Actions CI Workflow Status](https://img.shields.io/github/actions/workflow/status/felidz/template-project-nbdev/test.yaml?style=flat-square&logo=github&label=CI&color=darkgreen)\n",
    "![GitHub Actions Docs Workflow Status](https://img.shields.io/github/actions/workflow/status/felidz/template-project-nbdev/deploy.yaml?style=flat-square&logo=github&label=Docs&color=darkgreen)\n",
    "![Codecov](https://img.shields.io/codecov/c/github/felidz/template-project-nbdev.svg?style=flat-square&logo=codecov)\n",
    "![Scrutinizer quality](https://img.shields.io/scrutinizer/quality/g/felidz/template-project-nbdev.svg?style=flat-square&logo=Scrutinizer)\n",
    "\n",
    "![GitHub Repo stars](https://img.shields.io/github/stars/felidz/template-project-nbdev.svg?style=flat-square&logo=github)\n",
    "![GitHub Downloads](https://img.shields.io/github/downloads/felidz/template-project-nbdev/total?style=flat-square&logo=github)\n",
    "![PyPI - Downloads](https://img.shields.io/pypi/dm/template-project-nbdev.svg?style=flat-square&logo=pypi)\n",
    "\n",
    "<!-- ![discord](https://img.shields.io/badge/Discord?style=flat-square&logo=discord&logoColor=white) -->"
   ]
  },
  {
   "cell_type": "code",
   "execution_count": null,
   "metadata": {},
   "outputs": [],
   "source": []
  },
  {
   "cell_type": "markdown",
   "metadata": {},
   "source": [
    "## Install"
   ]
  },
  {
   "cell_type": "markdown",
   "metadata": {},
   "source": [
    "```sh\n",
    "pip install template_project_nbdev\n",
    "```"
   ]
  },
  {
   "cell_type": "markdown",
   "metadata": {},
   "source": [
    "## How to use"
   ]
  },
  {
   "cell_type": "code",
   "execution_count": null,
   "metadata": {},
   "outputs": [
    {
     "data": {
      "text/plain": [
       "2"
      ]
     },
     "execution_count": null,
     "metadata": {},
     "output_type": "execute_result"
    }
   ],
   "source": [
    "1+1\n",
    "\n"
   ]
  },
  {
   "cell_type": "code",
   "execution_count": null,
   "metadata": {},
   "outputs": [],
   "source": []
  }
 ],
 "metadata": {
  "kernelspec": {
   "display_name": "python3",
   "language": "python",
   "name": "python3"
  }
 },
 "nbformat": 4,
 "nbformat_minor": 4
}
