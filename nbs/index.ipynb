{
 "cells": [
  {
   "cell_type": "markdown",
   "metadata": {},
   "source": []
  },
  {
   "cell_type": "markdown",
   "metadata": {},
   "source": [
    "# A Template Project with nbdev\n"
   ]
  },
  {
   "cell_type": "markdown",
   "metadata": {},
   "source": [
    "This project is build on top of [nbdev](https://github.com/fastai/nbdev) framework, designed with the primary objective of facilitating my learning and progression through python engineering practice.\n"
   ]
  },
  {
   "cell_type": "markdown",
   "metadata": {},
   "source": [
    "\n",
    "![PyPI Version](https://img.shields.io/pypi/v/template-project-nbdev.svg?style=flat-square&color=darkblue)\n",
    "![GitHub Release](https://img.shields.io/github/v/release/felidz/template-project-nbdev.svg?style=flat-square&logo=github)\n",
    "![GitHub License](https://img.shields.io/github/license/felidz/template-project-nbdev.svg?style=flat-square&logo=github)\n",
    "\n",
    "![GitHub top language](https://img.shields.io/github/languages/top/felidz/template-project-nbdev.svg?style=flat-square)\n",
    "![GitHub commit activity](https://img.shields.io/github/commit-activity/t/felidz/template-project-nbdev.svg?style=flat-square&logo=github)\n",
    "\n",
    "\n",
    "![GitHub last commit](https://img.shields.io/github/last-commit/felidz/template-project-nbdev.svg?style=flat-square&logo=github&color=darkgreen) \n",
    "![GitHub Actions CI Workflow Status](https://img.shields.io/github/actions/workflow/status/felidz/template-project-nbdev/test.yaml?style=flat-square&logo=github&label=CI&color=darkgreen)\n",
    "![GitHub Actions Docs Workflow Status](https://img.shields.io/github/actions/workflow/status/felidz/template-project-nbdev/deploy.yaml?style=flat-square&logo=github&label=Docs&color=darkgreen)\n",
    "![Codecov](https://img.shields.io/codecov/c/github/felidz/template-project-nbdev.svg?style=flat-square&logo=codecov)\n",
    "![Scrutinizer quality](https://img.shields.io/scrutinizer/quality/g/felidz/template-project-nbdev.svg?style=flat-square&logo=Scrutinizer)\n",
    "\n",
    "![GitHub Repo stars](https://img.shields.io/github/stars/felidz/template-project-nbdev.svg?style=flat-square&logo=github)\n",
    "![GitHub Downloads](https://img.shields.io/github/downloads/felidz/template-project-nbdev/total?style=flat-square&logo=github)\n",
    "![PyPI - Downloads](https://img.shields.io/pypi/dm/template-project-nbdev.svg?style=flat-square&logo=pypi)\n",
    "\n",
    "<!-- ![discord](https://img.shields.io/badge/Discord?style=flat-square&logo=discord&logoColor=white) -->"
   ]
  },
  {
   "cell_type": "markdown",
   "metadata": {},
   "source": [
    "## Installation\n",
    "\n",
    "```sh\n",
    "pip install template_project_nbdev\n",
    "```"
   ]
  },
  {
   "cell_type": "markdown",
   "metadata": {},
   "source": [
    "## Usage"
   ]
  },
  {
   "cell_type": "code",
   "execution_count": null,
   "metadata": {},
   "outputs": [],
   "source": [
    "#| hide\n",
    "from template_project_nbdev import *  # noqa: F403\n"
   ]
  },
  {
   "cell_type": "code",
   "execution_count": null,
   "metadata": {},
   "outputs": [],
   "source": [
    "# WIP \n"
   ]
  },
  {
   "cell_type": "code",
   "execution_count": null,
   "metadata": {},
   "outputs": [],
   "source": [
    "\n"
   ]
  },
  {
   "cell_type": "markdown",
   "metadata": {},
   "source": [
    "## Copyright\n",
    "\n",
    "Copyright © 2024 onward Felidz. All rights reserved, with certain parts of the project specifically licensed and subject to different terms and conditions, e.g., source code of the project under the Apache-2.0 license; you may not use this project except in compliance with the license.\n",
    "\n",
    "## Citation\n",
    "BibTeX citation:\n",
    "```bibtex\n",
    "@misc{felidz2024,\n",
    "  author = {Felidz},\n",
    "  title = {Template-Project-Nbdev},\n",
    "  year = {2024},\n",
    "  publisher = {GitHub},\n",
    "  journal = {GitHub repository},\n",
    "  howpublished = {\\url{https://github.com/felidz/template-project-nbdev}}\n",
    "}\n",
    "```"
   ]
  }
 ],
 "metadata": {
  "kernelspec": {
   "display_name": "python3",
   "language": "python",
   "name": "python3"
  }
 },
 "nbformat": 4,
 "nbformat_minor": 4
}
